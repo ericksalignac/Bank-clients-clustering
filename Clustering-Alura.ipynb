{
 "cells": [
  {
   "attachments": {},
   "cell_type": "markdown",
   "id": "23d07265",
   "metadata": {},
   "source": [
    "### Import data and pre-processing "
   ]
  },
  {
   "cell_type": "code",
   "execution_count": 1,
   "id": "7948c7e7",
   "metadata": {},
   "outputs": [
    {
     "data": {
      "text/html": [
       "<div>\n",
       "<style scoped>\n",
       "    .dataframe tbody tr th:only-of-type {\n",
       "        vertical-align: middle;\n",
       "    }\n",
       "\n",
       "    .dataframe tbody tr th {\n",
       "        vertical-align: top;\n",
       "    }\n",
       "\n",
       "    .dataframe thead th {\n",
       "        text-align: right;\n",
       "    }\n",
       "</style>\n",
       "<table border=\"1\" class=\"dataframe\">\n",
       "  <thead>\n",
       "    <tr style=\"text-align: right;\">\n",
       "      <th></th>\n",
       "      <th>CUST_ID</th>\n",
       "      <th>BALANCE</th>\n",
       "      <th>BALANCE_FREQUENCY</th>\n",
       "      <th>PURCHASES</th>\n",
       "      <th>ONEOFF_PURCHASES</th>\n",
       "      <th>INSTALLMENTS_PURCHASES</th>\n",
       "      <th>CASH_ADVANCE</th>\n",
       "      <th>PURCHASES_FREQUENCY</th>\n",
       "      <th>ONEOFF_PURCHASES_FREQUENCY</th>\n",
       "      <th>PURCHASES_INSTALLMENTS_FREQUENCY</th>\n",
       "      <th>CASH_ADVANCE_FREQUENCY</th>\n",
       "      <th>CASH_ADVANCE_TRX</th>\n",
       "      <th>PURCHASES_TRX</th>\n",
       "      <th>CREDIT_LIMIT</th>\n",
       "      <th>PAYMENTS</th>\n",
       "      <th>MINIMUM_PAYMENTS</th>\n",
       "      <th>PRC_FULL_PAYMENT</th>\n",
       "      <th>TENURE</th>\n",
       "    </tr>\n",
       "  </thead>\n",
       "  <tbody>\n",
       "    <tr>\n",
       "      <th>0</th>\n",
       "      <td>C10001</td>\n",
       "      <td>40.900749</td>\n",
       "      <td>0.818182</td>\n",
       "      <td>95.40</td>\n",
       "      <td>0.00</td>\n",
       "      <td>95.4</td>\n",
       "      <td>0.000000</td>\n",
       "      <td>0.166667</td>\n",
       "      <td>0.000000</td>\n",
       "      <td>0.083333</td>\n",
       "      <td>0.000000</td>\n",
       "      <td>0</td>\n",
       "      <td>2</td>\n",
       "      <td>1000.0</td>\n",
       "      <td>201.802084</td>\n",
       "      <td>139.509787</td>\n",
       "      <td>0.000000</td>\n",
       "      <td>12</td>\n",
       "    </tr>\n",
       "    <tr>\n",
       "      <th>1</th>\n",
       "      <td>C10002</td>\n",
       "      <td>3202.467416</td>\n",
       "      <td>0.909091</td>\n",
       "      <td>0.00</td>\n",
       "      <td>0.00</td>\n",
       "      <td>0.0</td>\n",
       "      <td>6442.945483</td>\n",
       "      <td>0.000000</td>\n",
       "      <td>0.000000</td>\n",
       "      <td>0.000000</td>\n",
       "      <td>0.250000</td>\n",
       "      <td>4</td>\n",
       "      <td>0</td>\n",
       "      <td>7000.0</td>\n",
       "      <td>4103.032597</td>\n",
       "      <td>1072.340217</td>\n",
       "      <td>0.222222</td>\n",
       "      <td>12</td>\n",
       "    </tr>\n",
       "    <tr>\n",
       "      <th>2</th>\n",
       "      <td>C10003</td>\n",
       "      <td>2495.148862</td>\n",
       "      <td>1.000000</td>\n",
       "      <td>773.17</td>\n",
       "      <td>773.17</td>\n",
       "      <td>0.0</td>\n",
       "      <td>0.000000</td>\n",
       "      <td>1.000000</td>\n",
       "      <td>1.000000</td>\n",
       "      <td>0.000000</td>\n",
       "      <td>0.000000</td>\n",
       "      <td>0</td>\n",
       "      <td>12</td>\n",
       "      <td>7500.0</td>\n",
       "      <td>622.066742</td>\n",
       "      <td>627.284787</td>\n",
       "      <td>0.000000</td>\n",
       "      <td>12</td>\n",
       "    </tr>\n",
       "    <tr>\n",
       "      <th>3</th>\n",
       "      <td>C10004</td>\n",
       "      <td>1666.670542</td>\n",
       "      <td>0.636364</td>\n",
       "      <td>1499.00</td>\n",
       "      <td>1499.00</td>\n",
       "      <td>0.0</td>\n",
       "      <td>205.788017</td>\n",
       "      <td>0.083333</td>\n",
       "      <td>0.083333</td>\n",
       "      <td>0.000000</td>\n",
       "      <td>0.083333</td>\n",
       "      <td>1</td>\n",
       "      <td>1</td>\n",
       "      <td>7500.0</td>\n",
       "      <td>0.000000</td>\n",
       "      <td>NaN</td>\n",
       "      <td>0.000000</td>\n",
       "      <td>12</td>\n",
       "    </tr>\n",
       "    <tr>\n",
       "      <th>4</th>\n",
       "      <td>C10005</td>\n",
       "      <td>817.714335</td>\n",
       "      <td>1.000000</td>\n",
       "      <td>16.00</td>\n",
       "      <td>16.00</td>\n",
       "      <td>0.0</td>\n",
       "      <td>0.000000</td>\n",
       "      <td>0.083333</td>\n",
       "      <td>0.083333</td>\n",
       "      <td>0.000000</td>\n",
       "      <td>0.000000</td>\n",
       "      <td>0</td>\n",
       "      <td>1</td>\n",
       "      <td>1200.0</td>\n",
       "      <td>678.334763</td>\n",
       "      <td>244.791237</td>\n",
       "      <td>0.000000</td>\n",
       "      <td>12</td>\n",
       "    </tr>\n",
       "  </tbody>\n",
       "</table>\n",
       "</div>"
      ],
      "text/plain": [
       "  CUST_ID      BALANCE  BALANCE_FREQUENCY  PURCHASES  ONEOFF_PURCHASES  \\\n",
       "0  C10001    40.900749           0.818182      95.40              0.00   \n",
       "1  C10002  3202.467416           0.909091       0.00              0.00   \n",
       "2  C10003  2495.148862           1.000000     773.17            773.17   \n",
       "3  C10004  1666.670542           0.636364    1499.00           1499.00   \n",
       "4  C10005   817.714335           1.000000      16.00             16.00   \n",
       "\n",
       "   INSTALLMENTS_PURCHASES  CASH_ADVANCE  PURCHASES_FREQUENCY  \\\n",
       "0                    95.4      0.000000             0.166667   \n",
       "1                     0.0   6442.945483             0.000000   \n",
       "2                     0.0      0.000000             1.000000   \n",
       "3                     0.0    205.788017             0.083333   \n",
       "4                     0.0      0.000000             0.083333   \n",
       "\n",
       "   ONEOFF_PURCHASES_FREQUENCY  PURCHASES_INSTALLMENTS_FREQUENCY  \\\n",
       "0                    0.000000                          0.083333   \n",
       "1                    0.000000                          0.000000   \n",
       "2                    1.000000                          0.000000   \n",
       "3                    0.083333                          0.000000   \n",
       "4                    0.083333                          0.000000   \n",
       "\n",
       "   CASH_ADVANCE_FREQUENCY  CASH_ADVANCE_TRX  PURCHASES_TRX  CREDIT_LIMIT  \\\n",
       "0                0.000000                 0              2        1000.0   \n",
       "1                0.250000                 4              0        7000.0   \n",
       "2                0.000000                 0             12        7500.0   \n",
       "3                0.083333                 1              1        7500.0   \n",
       "4                0.000000                 0              1        1200.0   \n",
       "\n",
       "      PAYMENTS  MINIMUM_PAYMENTS  PRC_FULL_PAYMENT  TENURE  \n",
       "0   201.802084        139.509787          0.000000      12  \n",
       "1  4103.032597       1072.340217          0.222222      12  \n",
       "2   622.066742        627.284787          0.000000      12  \n",
       "3     0.000000               NaN          0.000000      12  \n",
       "4   678.334763        244.791237          0.000000      12  "
      ]
     },
     "execution_count": 1,
     "metadata": {},
     "output_type": "execute_result"
    }
   ],
   "source": [
    "import pandas as pd\n",
    "dataframe = pd.read_csv(\"https://raw.githubusercontent.com/ericksalignac/Bank-clients-clustering/master/CC%20GENERAL.csv\")\n",
    "dataframe.head()"
   ]
  },
  {
   "cell_type": "code",
   "execution_count": 2,
   "id": "c3e91403",
   "metadata": {},
   "outputs": [],
   "source": [
    "dataframe.drop(columns=['CUST_ID', 'TENURE'], inplace=True)"
   ]
  },
  {
   "cell_type": "code",
   "execution_count": 3,
   "id": "227827ed",
   "metadata": {},
   "outputs": [
    {
     "data": {
      "text/plain": [
       "BALANCE                               0\n",
       "BALANCE_FREQUENCY                     0\n",
       "PURCHASES                             0\n",
       "ONEOFF_PURCHASES                      0\n",
       "INSTALLMENTS_PURCHASES                0\n",
       "CASH_ADVANCE                          0\n",
       "PURCHASES_FREQUENCY                   0\n",
       "ONEOFF_PURCHASES_FREQUENCY            0\n",
       "PURCHASES_INSTALLMENTS_FREQUENCY      0\n",
       "CASH_ADVANCE_FREQUENCY                0\n",
       "CASH_ADVANCE_TRX                      0\n",
       "PURCHASES_TRX                         0\n",
       "CREDIT_LIMIT                          1\n",
       "PAYMENTS                              0\n",
       "MINIMUM_PAYMENTS                    313\n",
       "PRC_FULL_PAYMENT                      0\n",
       "dtype: int64"
      ]
     },
     "execution_count": 3,
     "metadata": {},
     "output_type": "execute_result"
    }
   ],
   "source": [
    "missing = dataframe.isna().sum()\n",
    "missing"
   ]
  },
  {
   "cell_type": "code",
   "execution_count": 4,
   "id": "810f358b",
   "metadata": {},
   "outputs": [],
   "source": [
    "dataframe.fillna(dataframe.median(), inplace=True)"
   ]
  },
  {
   "cell_type": "code",
   "execution_count": 5,
   "id": "789f3e95",
   "metadata": {},
   "outputs": [
    {
     "data": {
      "text/plain": [
       "BALANCE                             0\n",
       "BALANCE_FREQUENCY                   0\n",
       "PURCHASES                           0\n",
       "ONEOFF_PURCHASES                    0\n",
       "INSTALLMENTS_PURCHASES              0\n",
       "CASH_ADVANCE                        0\n",
       "PURCHASES_FREQUENCY                 0\n",
       "ONEOFF_PURCHASES_FREQUENCY          0\n",
       "PURCHASES_INSTALLMENTS_FREQUENCY    0\n",
       "CASH_ADVANCE_FREQUENCY              0\n",
       "CASH_ADVANCE_TRX                    0\n",
       "PURCHASES_TRX                       0\n",
       "CREDIT_LIMIT                        0\n",
       "PAYMENTS                            0\n",
       "MINIMUM_PAYMENTS                    0\n",
       "PRC_FULL_PAYMENT                    0\n",
       "dtype: int64"
      ]
     },
     "execution_count": 5,
     "metadata": {},
     "output_type": "execute_result"
    }
   ],
   "source": [
    "missing = dataframe.isna().sum()\n",
    "missing"
   ]
  },
  {
   "cell_type": "code",
   "execution_count": 6,
   "id": "e34e029c",
   "metadata": {},
   "outputs": [
    {
     "name": "stdout",
     "output_type": "stream",
     "text": [
      "[[3.93555441e-02 7.87271593e-04 9.17958473e-02 ... 1.94178127e-01\n",
      "  1.34239194e-01 0.00000000e+00]\n",
      " [2.93875903e-01 8.34231560e-05 0.00000000e+00 ... 3.76516684e-01\n",
      "  9.84037959e-02 2.03923046e-05]\n",
      " [3.10798149e-01 1.24560965e-04 9.63068011e-02 ... 7.74852335e-02\n",
      "  7.81351982e-02 0.00000000e+00]\n",
      " ...\n",
      " [2.27733092e-02 8.11060955e-04 1.40540698e-01 ... 7.90986945e-02\n",
      "  8.02156174e-02 2.43318384e-04]\n",
      " [2.65257948e-02 1.64255731e-03 0.00000000e+00 ... 1.03579625e-01\n",
      "  1.09898221e-01 4.92767391e-04]\n",
      " [1.86406219e-01 3.33426837e-04 5.46778061e-01 ... 3.15915455e-02\n",
      "  4.41568390e-02 0.00000000e+00]]\n"
     ]
    }
   ],
   "source": [
    "from sklearn.preprocessing import Normalizer\n",
    "values = Normalizer().fit_transform(dataframe.values)\n",
    "print(values)"
   ]
  },
  {
   "attachments": {},
   "cell_type": "markdown",
   "id": "6c041b9f",
   "metadata": {},
   "source": [
    "### Usando Kmeans"
   ]
  },
  {
   "cell_type": "code",
   "execution_count": 7,
   "id": "013e250b",
   "metadata": {},
   "outputs": [],
   "source": [
    "from sklearn.cluster import KMeans\n",
    "kmeans = KMeans(n_clusters=5, n_init=10, max_iter=300)\n",
    "y_pred = kmeans.fit_predict(values)"
   ]
  },
  {
   "attachments": {},
   "cell_type": "markdown",
   "id": "2dc46015",
   "metadata": {},
   "source": [
    "### Métricas"
   ]
  },
  {
   "attachments": {},
   "cell_type": "markdown",
   "id": "f934b6c4",
   "metadata": {},
   "source": [
    "Silhouette"
   ]
  },
  {
   "cell_type": "code",
   "execution_count": 8,
   "id": "4a026511",
   "metadata": {},
   "outputs": [
    {
     "name": "stdout",
     "output_type": "stream",
     "text": [
      "0.3644845919974304\n"
     ]
    }
   ],
   "source": [
    "from sklearn import metrics\n",
    "labels = kmeans.labels_\n",
    "silhouette = metrics.silhouette_score(values, labels, metric='euclidean')\n",
    "print(silhouette)"
   ]
  },
  {
   "attachments": {},
   "cell_type": "markdown",
   "id": "47cbb21e",
   "metadata": {},
   "source": [
    "Davies Bouldin"
   ]
  },
  {
   "cell_type": "code",
   "execution_count": 9,
   "id": "3e23aa56",
   "metadata": {},
   "outputs": [
    {
     "name": "stdout",
     "output_type": "stream",
     "text": [
      "1.0757138590613293\n"
     ]
    }
   ],
   "source": [
    "dbs = metrics.davies_bouldin_score(values, labels)\n",
    "print(dbs)"
   ]
  },
  {
   "attachments": {},
   "cell_type": "markdown",
   "id": "60828098",
   "metadata": {},
   "source": [
    "Calisnski Harabasz"
   ]
  },
  {
   "cell_type": "code",
   "execution_count": 10,
   "id": "0120aae5",
   "metadata": {},
   "outputs": [
    {
     "name": "stdout",
     "output_type": "stream",
     "text": [
      "3431.79374284143\n"
     ]
    }
   ],
   "source": [
    "calinski = metrics.calinski_harabasz_score(values, labels)\n",
    "print(calinski)"
   ]
  },
  {
   "cell_type": "code",
   "execution_count": 11,
   "id": "56d6a2cf",
   "metadata": {},
   "outputs": [],
   "source": [
    "def clustering_algorithm(n_clusters, dataset):\n",
    "  kmeans = KMeans(n_clusters = n_clusters, n_init=10, max_iter=300)\n",
    "  labels = kmeans.fit_predict(dataset)\n",
    "  s = metrics.silhouette_score(dataset, labels, metric='euclidean')\n",
    "  dbs = metrics.davies_bouldin_score(dataset, labels)\n",
    "  calinski = metrics.calinski_harabasz_score(dataset, labels)\n",
    "  return s, dbs, calinski"
   ]
  },
  {
   "cell_type": "code",
   "execution_count": 12,
   "id": "38dde12a",
   "metadata": {},
   "outputs": [
    {
     "name": "stdout",
     "output_type": "stream",
     "text": [
      "0.3272203126696238 1.309607364008843 3526.440519908274\n"
     ]
    }
   ],
   "source": [
    "s1, dbs1, calinski1 = clustering_algorithm(3, values)\n",
    "print(s1, dbs1, calinski1)"
   ]
  },
  {
   "cell_type": "code",
   "execution_count": 13,
   "id": "ac133157",
   "metadata": {},
   "outputs": [
    {
     "name": "stdout",
     "output_type": "stream",
     "text": [
      "0.3486361382475878 1.1526565665992343 3422.8431338804794\n"
     ]
    }
   ],
   "source": [
    "s2, dbs2, calinski2 = clustering_algorithm(5, values)\n",
    "print(s2, dbs2, calinski2)"
   ]
  },
  {
   "cell_type": "code",
   "execution_count": 14,
   "id": "8a9463a9",
   "metadata": {},
   "outputs": [
    {
     "name": "stdout",
     "output_type": "stream",
     "text": [
      "0.27757595663443574 1.203107988953727 2416.507050401146\n"
     ]
    }
   ],
   "source": [
    "s3, dbs3, calinski3 = clustering_algorithm(20, values)\n",
    "print(s3, dbs3, calinski3)"
   ]
  },
  {
   "attachments": {},
   "cell_type": "markdown",
   "id": "01d88859",
   "metadata": {},
   "source": [
    "### Validando a clusterização"
   ]
  },
  {
   "attachments": {},
   "cell_type": "markdown",
   "id": "fb1fd441",
   "metadata": {},
   "source": [
    "Validando a estrutura dos usados para clusterização em comparação a dados gerados aleatóriamente"
   ]
  },
  {
   "cell_type": "code",
   "execution_count": 15,
   "id": "46ea3438",
   "metadata": {},
   "outputs": [
    {
     "data": {
      "text/plain": [
       "(0.03937714306895725, 3.5343045740822214, 303.2696944092456)"
      ]
     },
     "execution_count": 15,
     "metadata": {},
     "output_type": "execute_result"
    }
   ],
   "source": [
    "import numpy as np\n",
    "random_data = np.random.rand(8950, 16)\n",
    "clustering_algorithm(5, random_data)"
   ]
  },
  {
   "attachments": {},
   "cell_type": "markdown",
   "id": "60cbeaaf",
   "metadata": {},
   "source": [
    "### Gerando a vizualização"
   ]
  },
  {
   "cell_type": "code",
   "execution_count": 16,
   "id": "3e4f7cb9",
   "metadata": {},
   "outputs": [
    {
     "data": {
      "text/plain": [
       "BALANCE                             8950\n",
       "BALANCE_FREQUENCY                   8950\n",
       "PURCHASES                           8950\n",
       "ONEOFF_PURCHASES                    8950\n",
       "INSTALLMENTS_PURCHASES              8950\n",
       "CASH_ADVANCE                        8950\n",
       "PURCHASES_FREQUENCY                 8950\n",
       "ONEOFF_PURCHASES_FREQUENCY          8950\n",
       "PURCHASES_INSTALLMENTS_FREQUENCY    8950\n",
       "CASH_ADVANCE_FREQUENCY              8950\n",
       "CASH_ADVANCE_TRX                    8950\n",
       "PURCHASES_TRX                       8950\n",
       "CREDIT_LIMIT                        8950\n",
       "PAYMENTS                            8950\n",
       "MINIMUM_PAYMENTS                    8950\n",
       "PRC_FULL_PAYMENT                    8950\n",
       "dtype: int64"
      ]
     },
     "execution_count": 16,
     "metadata": {},
     "output_type": "execute_result"
    }
   ],
   "source": [
    "dataframe.count()"
   ]
  },
  {
   "cell_type": "code",
   "execution_count": 23,
   "id": "94b9ecd7",
   "metadata": {},
   "outputs": [
    {
     "data": {
      "text/plain": [
       "Text(0, 0.5, 'Valor total gasto')"
      ]
     },
     "execution_count": 23,
     "metadata": {},
     "output_type": "execute_result"
    },
    {
     "data": {
      "image/png": "[encoded data removed]",
      "text/plain": [
       "<Figure size 640x480 with 1 Axes>"
      ]
     },
     "metadata": {},
     "output_type": "display_data"
    }
   ],
   "source": [
    "import matplotlib.pyplot as plt \n",
    "plt.scatter(dataframe['PURCHASES'], dataframe['PAYMENTS'], c=labels, s=5, cmap='rainbow')\n",
    "plt.xlabel('Valor total pago')\n",
    "plt.ylabel('Valor total gasto')"
   ]
  },
  {
   "cell_type": "code",
   "execution_count": 24,
   "id": "a98171e1",
   "metadata": {},
   "outputs": [
    {
     "data": {
      "text/html": [
       "<div>\n",
       "<style scoped>\n",
       "    .dataframe tbody tr th:only-of-type {\n",
       "        vertical-align: middle;\n",
       "    }\n",
       "\n",
       "    .dataframe tbody tr th {\n",
       "        vertical-align: top;\n",
       "    }\n",
       "\n",
       "    .dataframe thead tr th {\n",
       "        text-align: left;\n",
       "    }\n",
       "\n",
       "    .dataframe thead tr:last-of-type th {\n",
       "        text-align: right;\n",
       "    }\n",
       "</style>\n",
       "<table border=\"1\" class=\"dataframe\">\n",
       "  <thead>\n",
       "    <tr>\n",
       "      <th></th>\n",
       "      <th colspan=\"8\" halign=\"left\">BALANCE</th>\n",
       "      <th colspan=\"2\" halign=\"left\">BALANCE_FREQUENCY</th>\n",
       "      <th>...</th>\n",
       "      <th colspan=\"2\" halign=\"left\">MINIMUM_PAYMENTS</th>\n",
       "      <th colspan=\"8\" halign=\"left\">PRC_FULL_PAYMENT</th>\n",
       "    </tr>\n",
       "    <tr>\n",
       "      <th></th>\n",
       "      <th>count</th>\n",
       "      <th>mean</th>\n",
       "      <th>std</th>\n",
       "      <th>min</th>\n",
       "      <th>25%</th>\n",
       "      <th>50%</th>\n",
       "      <th>75%</th>\n",
       "      <th>max</th>\n",
       "      <th>count</th>\n",
       "      <th>mean</th>\n",
       "      <th>...</th>\n",
       "      <th>75%</th>\n",
       "      <th>max</th>\n",
       "      <th>count</th>\n",
       "      <th>mean</th>\n",
       "      <th>std</th>\n",
       "      <th>min</th>\n",
       "      <th>25%</th>\n",
       "      <th>50%</th>\n",
       "      <th>75%</th>\n",
       "      <th>max</th>\n",
       "    </tr>\n",
       "    <tr>\n",
       "      <th>cluster</th>\n",
       "      <th></th>\n",
       "      <th></th>\n",
       "      <th></th>\n",
       "      <th></th>\n",
       "      <th></th>\n",
       "      <th></th>\n",
       "      <th></th>\n",
       "      <th></th>\n",
       "      <th></th>\n",
       "      <th></th>\n",
       "      <th></th>\n",
       "      <th></th>\n",
       "      <th></th>\n",
       "      <th></th>\n",
       "      <th></th>\n",
       "      <th></th>\n",
       "      <th></th>\n",
       "      <th></th>\n",
       "      <th></th>\n",
       "      <th></th>\n",
       "      <th></th>\n",
       "    </tr>\n",
       "  </thead>\n",
       "  <tbody>\n",
       "    <tr>\n",
       "      <th>0</th>\n",
       "      <td>2649.0</td>\n",
       "      <td>3037.962543</td>\n",
       "      <td>2478.838161</td>\n",
       "      <td>6.824905</td>\n",
       "      <td>1256.612223</td>\n",
       "      <td>2174.018945</td>\n",
       "      <td>4223.867789</td>\n",
       "      <td>18495.558550</td>\n",
       "      <td>2649.0</td>\n",
       "      <td>0.963740</td>\n",
       "      <td>...</td>\n",
       "      <td>1330.593643</td>\n",
       "      <td>8345.641905</td>\n",
       "      <td>2649.0</td>\n",
       "      <td>0.001799</td>\n",
       "      <td>0.023260</td>\n",
       "      <td>0.0</td>\n",
       "      <td>0.0</td>\n",
       "      <td>0.000000</td>\n",
       "      <td>0.000000</td>\n",
       "      <td>0.6</td>\n",
       "    </tr>\n",
       "    <tr>\n",
       "      <th>1</th>\n",
       "      <td>3278.0</td>\n",
       "      <td>443.992358</td>\n",
       "      <td>846.597972</td>\n",
       "      <td>0.000000</td>\n",
       "      <td>23.315538</td>\n",
       "      <td>82.992153</td>\n",
       "      <td>411.193793</td>\n",
       "      <td>9630.367575</td>\n",
       "      <td>3278.0</td>\n",
       "      <td>0.774417</td>\n",
       "      <td>...</td>\n",
       "      <td>248.800040</td>\n",
       "      <td>4483.503862</td>\n",
       "      <td>3278.0</td>\n",
       "      <td>0.246549</td>\n",
       "      <td>0.346601</td>\n",
       "      <td>0.0</td>\n",
       "      <td>0.0</td>\n",
       "      <td>0.000000</td>\n",
       "      <td>0.444444</td>\n",
       "      <td>1.0</td>\n",
       "    </tr>\n",
       "    <tr>\n",
       "      <th>2</th>\n",
       "      <td>1540.0</td>\n",
       "      <td>1142.222657</td>\n",
       "      <td>1664.035755</td>\n",
       "      <td>0.000000</td>\n",
       "      <td>211.566656</td>\n",
       "      <td>554.332740</td>\n",
       "      <td>1370.859355</td>\n",
       "      <td>19043.138560</td>\n",
       "      <td>1540.0</td>\n",
       "      <td>0.928053</td>\n",
       "      <td>...</td>\n",
       "      <td>524.184580</td>\n",
       "      <td>18621.013310</td>\n",
       "      <td>1540.0</td>\n",
       "      <td>0.278582</td>\n",
       "      <td>0.367203</td>\n",
       "      <td>0.0</td>\n",
       "      <td>0.0</td>\n",
       "      <td>0.083333</td>\n",
       "      <td>0.545455</td>\n",
       "      <td>1.0</td>\n",
       "    </tr>\n",
       "    <tr>\n",
       "      <th>3</th>\n",
       "      <td>1072.0</td>\n",
       "      <td>1794.024195</td>\n",
       "      <td>1982.950586</td>\n",
       "      <td>0.000000</td>\n",
       "      <td>506.925348</td>\n",
       "      <td>1087.920500</td>\n",
       "      <td>2308.762488</td>\n",
       "      <td>14581.459140</td>\n",
       "      <td>1072.0</td>\n",
       "      <td>0.862131</td>\n",
       "      <td>...</td>\n",
       "      <td>884.718306</td>\n",
       "      <td>21235.065300</td>\n",
       "      <td>1072.0</td>\n",
       "      <td>0.117384</td>\n",
       "      <td>0.186853</td>\n",
       "      <td>0.0</td>\n",
       "      <td>0.0</td>\n",
       "      <td>0.083333</td>\n",
       "      <td>0.142857</td>\n",
       "      <td>1.0</td>\n",
       "    </tr>\n",
       "    <tr>\n",
       "      <th>4</th>\n",
       "      <td>411.0</td>\n",
       "      <td>1987.501586</td>\n",
       "      <td>1854.459156</td>\n",
       "      <td>70.794108</td>\n",
       "      <td>1018.958891</td>\n",
       "      <td>1337.287314</td>\n",
       "      <td>2138.678431</td>\n",
       "      <td>11670.179850</td>\n",
       "      <td>411.0</td>\n",
       "      <td>0.989486</td>\n",
       "      <td>...</td>\n",
       "      <td>7112.618584</td>\n",
       "      <td>76406.207520</td>\n",
       "      <td>411.0</td>\n",
       "      <td>0.019318</td>\n",
       "      <td>0.090901</td>\n",
       "      <td>0.0</td>\n",
       "      <td>0.0</td>\n",
       "      <td>0.000000</td>\n",
       "      <td>0.000000</td>\n",
       "      <td>1.0</td>\n",
       "    </tr>\n",
       "  </tbody>\n",
       "</table>\n",
       "<p>5 rows × 128 columns</p>\n",
       "</div>"
      ],
      "text/plain": [
       "        BALANCE                                                    \\\n",
       "          count         mean          std        min          25%   \n",
       "cluster                                                             \n",
       "0        2649.0  3037.962543  2478.838161   6.824905  1256.612223   \n",
       "1        3278.0   443.992358   846.597972   0.000000    23.315538   \n",
       "2        1540.0  1142.222657  1664.035755   0.000000   211.566656   \n",
       "3        1072.0  1794.024195  1982.950586   0.000000   506.925348   \n",
       "4         411.0  1987.501586  1854.459156  70.794108  1018.958891   \n",
       "\n",
       "                                                BALANCE_FREQUENCY            \\\n",
       "                 50%          75%           max             count      mean   \n",
       "cluster                                                                       \n",
       "0        2174.018945  4223.867789  18495.558550            2649.0  0.963740   \n",
       "1          82.992153   411.193793   9630.367575            3278.0  0.774417   \n",
       "2         554.332740  1370.859355  19043.138560            1540.0  0.928053   \n",
       "3        1087.920500  2308.762488  14581.459140            1072.0  0.862131   \n",
       "4        1337.287314  2138.678431  11670.179850             411.0  0.989486   \n",
       "\n",
       "         ... MINIMUM_PAYMENTS               PRC_FULL_PAYMENT            \\\n",
       "         ...              75%           max            count      mean   \n",
       "cluster  ...                                                             \n",
       "0        ...      1330.593643   8345.641905           2649.0  0.001799   \n",
       "1        ...       248.800040   4483.503862           3278.0  0.246549   \n",
       "2        ...       524.184580  18621.013310           1540.0  0.278582   \n",
       "3        ...       884.718306  21235.065300           1072.0  0.117384   \n",
       "4        ...      7112.618584  76406.207520            411.0  0.019318   \n",
       "\n",
       "                                                      \n",
       "              std  min  25%       50%       75%  max  \n",
       "cluster                                               \n",
       "0        0.023260  0.0  0.0  0.000000  0.000000  0.6  \n",
       "1        0.346601  0.0  0.0  0.000000  0.444444  1.0  \n",
       "2        0.367203  0.0  0.0  0.083333  0.545455  1.0  \n",
       "3        0.186853  0.0  0.0  0.083333  0.142857  1.0  \n",
       "4        0.090901  0.0  0.0  0.000000  0.000000  1.0  \n",
       "\n",
       "[5 rows x 128 columns]"
      ]
     },
     "execution_count": 24,
     "metadata": {},
     "output_type": "execute_result"
    }
   ],
   "source": [
    "import seaborn as sns\n",
    "dataframe['cluster'] = labels\n",
    "dataframe.groupby('cluster').describe()"
   ]
  },
  {
   "cell_type": "code",
   "execution_count": 19,
   "id": "1dd3ad5b",
   "metadata": {},
   "outputs": [
    {
     "data": {
      "text/plain": [
       "array([[5.04263792e-01, 2.72194282e-04, 6.17808431e-02, 3.62269020e-02,\n",
       "        2.55756543e-02, 2.52903017e-01, 6.73170559e-05, 2.56975193e-05,\n",
       "        4.50651626e-05, 5.74388410e-05, 1.15687334e-03, 1.33194105e-03,\n",
       "        7.19174706e-01, 1.66205262e-01, 1.79245673e-01, 5.52303554e-07],\n",
       "       [6.91386971e-02, 2.30552524e-04, 1.21267798e-01, 4.80255998e-02,\n",
       "        7.33425496e-02, 2.43607736e-02, 1.72581896e-04, 3.37097813e-05,\n",
       "        1.40021986e-04, 7.93309218e-06, 1.24113667e-04, 2.86037895e-03,\n",
       "        9.43728649e-01, 1.53557708e-01, 5.68217245e-02, 7.57977264e-05],\n",
       "       [1.59699490e-01, 2.45649360e-04, 4.38116859e-01, 2.56325660e-01,\n",
       "        1.81962376e-01, 2.57889184e-02, 2.04826443e-04, 8.87914942e-05,\n",
       "        1.51162866e-04, 9.36296056e-06, 1.69350945e-04, 6.17145756e-03,\n",
       "        6.04336246e-01, 4.02584838e-01, 8.54128174e-02, 7.26645255e-05],\n",
       "       [2.35141479e-01, 2.16555293e-04, 6.03857074e-02, 3.44170171e-02,\n",
       "        2.59739049e-02, 4.00128071e-01, 5.26401668e-05, 2.04882397e-05,\n",
       "        3.51921361e-05, 6.54864556e-05, 1.57199032e-03, 1.12217156e-03,\n",
       "        5.35089146e-01, 5.98040052e-01, 1.04348171e-01, 2.77498236e-05],\n",
       "       [3.32918803e-01, 2.68423552e-04, 1.58240376e-01, 3.63059801e-02,\n",
       "        1.22319068e-01, 5.83557153e-02, 1.66754597e-04, 2.64938445e-05,\n",
       "        1.47063187e-04, 1.93217566e-05, 4.27934836e-04, 3.86197017e-03,\n",
       "        3.76718873e-01, 2.51861450e-01, 6.80311114e-01, 4.23993819e-06]])"
      ]
     },
     "execution_count": 19,
     "metadata": {},
     "output_type": "execute_result"
    }
   ],
   "source": [
    "centroides = kmeans.cluster_centers_\n",
    "centroides"
   ]
  },
  {
   "cell_type": "code",
   "execution_count": 20,
   "id": "8c32a486",
   "metadata": {},
   "outputs": [
    {
     "name": "stdout",
     "output_type": "stream",
     "text": [
      "BALANCE = 0.0224\n",
      "BALANCE_FREQUENCY = 0.0000\n",
      "PURCHASES = 0.0196\n",
      "ONEOFF_PURCHASES = 0.0076\n",
      "INSTALLMENTS_PURCHASES = 0.0036\n",
      "CASH_ADVANCE = 0.0225\n",
      "PURCHASES_FREQUENCY = 0.0000\n",
      "ONEOFF_PURCHASES_FREQUENCY = 0.0000\n",
      "PURCHASES_INSTALLMENTS_FREQUENCY = 0.0000\n",
      "CASH_ADVANCE_FREQUENCY = 0.0000\n",
      "CASH_ADVANCE_TRX = 0.0000\n",
      "PURCHASES_TRX = 0.0000\n",
      "CREDIT_LIMIT = 0.0360\n",
      "PAYMENTS = 0.0280\n",
      "MINIMUM_PAYMENTS = 0.0543\n",
      "PRC_FULL_PAYMENT = 0.0000\n"
     ]
    }
   ],
   "source": [
    "for i in range(len(centroides[0])):\n",
    "  print(dataframe.columns.values[i],  '= {:.4f}'.format(centroides[:, i].var()))"
   ]
  },
  {
   "cell_type": "code",
   "execution_count": 21,
   "id": "4ef694d2",
   "metadata": {},
   "outputs": [
    {
     "name": "stderr",
     "output_type": "stream",
     "text": [
      "C:\\Users\\erick\\AppData\\Local\\Temp\\ipykernel_14952\\756818207.py:1: FutureWarning: Indexing with multiple keys (implicitly converted to a tuple of keys) will be deprecated, use a list instead.\n",
      "  description = dataframe.groupby(\"cluster\")[\"BALANCE\", \"PURCHASES\", \"CASH_ADVANCE\", \"CREDIT_LIMIT\", \"PAYMENTS\"]\n"
     ]
    },
    {
     "data": {
      "text/html": [
       "<div>\n",
       "<style scoped>\n",
       "    .dataframe tbody tr th:only-of-type {\n",
       "        vertical-align: middle;\n",
       "    }\n",
       "\n",
       "    .dataframe tbody tr th {\n",
       "        vertical-align: top;\n",
       "    }\n",
       "\n",
       "    .dataframe thead th {\n",
       "        text-align: right;\n",
       "    }\n",
       "</style>\n",
       "<table border=\"1\" class=\"dataframe\">\n",
       "  <thead>\n",
       "    <tr style=\"text-align: right;\">\n",
       "      <th></th>\n",
       "      <th>BALANCE</th>\n",
       "      <th>PURCHASES</th>\n",
       "      <th>CASH_ADVANCE</th>\n",
       "      <th>CREDIT_LIMIT</th>\n",
       "      <th>PAYMENTS</th>\n",
       "      <th>n_clients</th>\n",
       "    </tr>\n",
       "    <tr>\n",
       "      <th>cluster</th>\n",
       "      <th></th>\n",
       "      <th></th>\n",
       "      <th></th>\n",
       "      <th></th>\n",
       "      <th></th>\n",
       "      <th></th>\n",
       "    </tr>\n",
       "  </thead>\n",
       "  <tbody>\n",
       "    <tr>\n",
       "      <th>0</th>\n",
       "      <td>3037.962543</td>\n",
       "      <td>385.248630</td>\n",
       "      <td>1636.917210</td>\n",
       "      <td>4495.771989</td>\n",
       "      <td>968.890376</td>\n",
       "      <td>2649</td>\n",
       "    </tr>\n",
       "    <tr>\n",
       "      <th>1</th>\n",
       "      <td>443.992358</td>\n",
       "      <td>629.345171</td>\n",
       "      <td>141.569301</td>\n",
       "      <td>5132.945933</td>\n",
       "      <td>814.477150</td>\n",
       "      <td>3278</td>\n",
       "    </tr>\n",
       "    <tr>\n",
       "      <th>2</th>\n",
       "      <td>1142.222657</td>\n",
       "      <td>3268.886929</td>\n",
       "      <td>183.019398</td>\n",
       "      <td>4097.701397</td>\n",
       "      <td>3037.241495</td>\n",
       "      <td>1540</td>\n",
       "    </tr>\n",
       "    <tr>\n",
       "      <th>3</th>\n",
       "      <td>1794.024195</td>\n",
       "      <td>475.494823</td>\n",
       "      <td>3270.246792</td>\n",
       "      <td>3976.372399</td>\n",
       "      <td>4709.556601</td>\n",
       "      <td>1072</td>\n",
       "    </tr>\n",
       "    <tr>\n",
       "      <th>4</th>\n",
       "      <td>1987.501586</td>\n",
       "      <td>854.865815</td>\n",
       "      <td>421.129352</td>\n",
       "      <td>2227.737226</td>\n",
       "      <td>1336.238911</td>\n",
       "      <td>411</td>\n",
       "    </tr>\n",
       "  </tbody>\n",
       "</table>\n",
       "</div>"
      ],
      "text/plain": [
       "             BALANCE    PURCHASES  CASH_ADVANCE  CREDIT_LIMIT     PAYMENTS  \\\n",
       "cluster                                                                      \n",
       "0        3037.962543   385.248630   1636.917210   4495.771989   968.890376   \n",
       "1         443.992358   629.345171    141.569301   5132.945933   814.477150   \n",
       "2        1142.222657  3268.886929    183.019398   4097.701397  3037.241495   \n",
       "3        1794.024195   475.494823   3270.246792   3976.372399  4709.556601   \n",
       "4        1987.501586   854.865815    421.129352   2227.737226  1336.238911   \n",
       "\n",
       "         n_clients  \n",
       "cluster             \n",
       "0             2649  \n",
       "1             3278  \n",
       "2             1540  \n",
       "3             1072  \n",
       "4              411  "
      ]
     },
     "execution_count": 21,
     "metadata": {},
     "output_type": "execute_result"
    }
   ],
   "source": [
    "description = dataframe.groupby(\"cluster\")[\"BALANCE\", \"PURCHASES\", \"CASH_ADVANCE\", \"CREDIT_LIMIT\", \"PAYMENTS\"]\n",
    "n_clients = description.size()\n",
    "description = description.mean()\n",
    "description['n_clients'] = n_clients\n",
    "description"
   ]
  },
  {
   "cell_type": "code",
   "execution_count": 22,
   "id": "235caae9",
   "metadata": {},
   "outputs": [
    {
     "data": {
      "text/plain": [
       "'\\nCLUSTER 0: Clientes que gastam pouco. Clientes com o maior limite. Bons pagadores. Maior número de clientes.\\n\\nCLUSTER 1: Clientes que mais gastam. O foco deles é o saque. Piores pagadores. Boa quantidade de clientes.\\n\\nCLUSTER 2: Clientes que gastam muito com compras. Melhores pagadores.\\n\\nCLUSTER 3: Clientes que gastam muito com saques. Pagam as vezes.\\n\\nCLUSTER 4: Clientes com o menor limite. Não são bons pagadores. Menor quantidade de clientes.\\n'"
      ]
     },
     "execution_count": 22,
     "metadata": {},
     "output_type": "execute_result"
    }
   ],
   "source": [
    "'''\n",
    "CLUSTER 0: Clientes que gastam pouco. Clientes com o maior limite. Bons pagadores. Maior número de clientes.\n",
    "\n",
    "CLUSTER 1: Clientes que mais gastam. O foco deles é o saque. Piores pagadores. Boa quantidade de clientes.\n",
    "\n",
    "CLUSTER 2: Clientes que gastam muito com compras. Melhores pagadores.\n",
    "\n",
    "CLUSTER 3: Clientes que gastam muito com saques. Pagam as vezes.\n",
    "\n",
    "CLUSTER 4: Clientes com o menor limite. Não são bons pagadores. Menor quantidade de clientes.\n",
    "'''"
   ]
  }
 ],
 "metadata": {
  "kernelspec": {
   "display_name": "base",
   "language": "python",
   "name": "python3"
  },
  "language_info": {
   "codemirror_mode": {
    "name": "ipython",
    "version": 3
   },
   "file_extension": ".py",
   "mimetype": "text/x-python",
   "name": "python",
   "nbconvert_exporter": "python",
   "pygments_lexer": "ipython3",
   "version": "3.10.9"
  },
  "vscode": {
   "interpreter": {
    "hash": "074199b25a8a867ea9a75b8ed3063be9f78cb342e7387ae79a15242657ecab73"
   }
  }
 },
 "nbformat": 4,
 "nbformat_minor": 5
}
